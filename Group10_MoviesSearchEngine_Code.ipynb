{
 "cells": [
  {
   "attachments": {
    "image-2.png": {
     "image/png": "[encoded data removed]"
    }
   },
   "cell_type": "markdown",
   "metadata": {},
   "source": [
    "![image-2.png](attachment:image-2.png)"
   ]
  },
  {
   "cell_type": "markdown",
   "metadata": {},
   "source": [
    "<a id=\"toc\"></a>\n",
    "\n",
    "# <h2 style=\"background-color:#800000; font-family:newtimeroman; color:#D2B48C; font-size:150%; text-align:center; border-radius:10px 10px;\" class=\"list-group-item list-group-item-action active\" data-toggle=\"list\" role=\"tablist\" aria-controls=\"home\">TABLE OF CONTENTS</h2>\n",
    "\n",
    "* [1) Business Problem](#1)\n",
    "* [2) Importing libraries and dataset](#2)\n",
    "* [3) Preprocessing Data](#3)\n",
    "* [3) Data Retrival in Empty Lists](#3)\n",
    "* [4) Functions - ](#4)\n",
    "    * [4.1 - Registration](#4.1)\n",
    "    * [4.2 - Login](#4.2)\n",
    "    * [4.3 - Forget Password](#4.3) \n",
    "    * [4.4 - Data Retrival in Empty List](#4.4)\n",
    "    * [4.5 Output Display Format](#4.5)\n",
    "    * [4.6 Movies Name by Min & Max Votes](#4.6)\n",
    "    * [4.7 Movies Search by Min and Max duration](#4.7)\n",
    "    * [4.8 Movies Details by Title](#4.8)\n",
    "    * [4.9 Movies Name by Director Name ](#4.9)\n",
    "    * [4.10 Random Movie Names ](#4.10)\n",
    "    * [4.11 Movies Search by Genre, Language & Duration](#4.11)\n",
    "    * [4.12 Movies Search by Genre, Language & Votes](#4.12)\n",
    "    * [4.13 Movies Search by Duration, Language & Votes](#4.13)    \n",
    "* [5) Menu to be Displayes](#5)\n",
    "* [6) MovFlix Home Page](#6)\n",
    "* [7) Applications](#7)"
   ]
  },
  {
   "cell_type": "markdown",
   "metadata": {},
   "source": [
    "<a id=\"1\"></a>\n",
    "## <p style=\"background-color:#800000; font-family:newtimeroman; color:#D2B48C; font-size:150%; text-align:center; border-radius:10px 10px;\"> 1. Business Problem</p>\n"
   ]
  },
  {
   "cell_type": "markdown",
   "metadata": {},
   "source": [
    "### <p  style = \"font-family:newtimeroman; font-size:100%; color:#123456\"> In today's busy schedule when we have got very less time for ourselves, where we decide to watch something worthy to relax.We all want to do \"MovFlix &  Chill!\". </p> \n",
    "### <p  style = \"font-family:newtimeroman; font-size:100%; color:#123456\">We have got millions of movies to choose from! We have a wide variety of movies some short some long, some 10/10 and some 1/10, from hindi, english, spanish to every possible language. But the question remains what to watch?</p>"
   ]
  },
  {
   "cell_type": "markdown",
   "metadata": {},
   "source": [
    "<a id=\"2\"></a>\n",
    "## <p style=\"background-color:#800000; font-family:newtimeroman; color:#D2B48C; font-size:150%; text-align:center; border-radius:10px 10px;\"> 2. Importing Libraries & Dataset</p>\n",
    "\n",
    "<a href=\"#toc\" class=\"btn btn-primary btn-sm\" role=\"button\" aria-pressed=\"true\" \n",
    "style=\"color:blue; background-color:#CFECEC\" data-toggle=\"popover\">Table of Contents</a>\n"
   ]
  },
  {
   "cell_type": "code",
   "execution_count": 1,
   "metadata": {},
   "outputs": [],
   "source": [
    "import pandas as pd\n",
    "import csv\n",
    "from random import randrange\n",
    "import warnings\n",
    "\n",
    "warnings.filterwarnings('ignore')\n",
    "\n",
    "\n",
    "# import classes and functions to perform email trigger functionality\n",
    "import smtplib\n",
    "\n",
    "from email.mime.multipart import MIMEMultipart\n",
    "from email.mime.text import MIMEText\n",
    "from email.message import EmailMessage\n",
    "from email.mime.base import MIMEBase"
   ]
  },
  {
   "cell_type": "code",
   "execution_count": 2,
   "metadata": {},
   "outputs": [],
   "source": [
    "tmdb = pd.read_csv(\"IMDb movies.csv\")"
   ]
  },
  {
   "cell_type": "markdown",
   "metadata": {},
   "source": [
    "\n",
    "<a id=\"3\"></a>\n",
    "## <p style=\"background-color:#800000; font-family:newtimeroman; color:#D2B48C; font-size:150%; text-align:center; border-radius:10px 10px;\"> 3. Preprocessing Data</p>\n",
    "\n",
    "<a href=\"#toc\" class=\"btn btn-primary btn-sm\" role=\"button\" aria-pressed=\"true\" \n",
    "style=\"color:blue; background-color:#CFECEC\" data-toggle=\"popover\">Table of Contents</a>\n"
   ]
  },
  {
   "cell_type": "code",
   "execution_count": 3,
   "metadata": {},
   "outputs": [
    {
     "name": "stdout",
     "output_type": "stream",
     "text": [
      "<class 'pandas.core.frame.DataFrame'>\n",
      "RangeIndex: 85855 entries, 0 to 85854\n",
      "Data columns (total 22 columns):\n",
      " #   Column                 Non-Null Count  Dtype  \n",
      "---  ------                 --------------  -----  \n",
      " 0   imdb_title_id          85855 non-null  object \n",
      " 1   title                  85855 non-null  object \n",
      " 2   original_title         85855 non-null  object \n",
      " 3   year                   85855 non-null  object \n",
      " 4   date_published         85855 non-null  object \n",
      " 5   genre                  85855 non-null  object \n",
      " 6   duration               85855 non-null  int64  \n",
      " 7   country                85791 non-null  object \n",
      " 8   language               85022 non-null  object \n",
      " 9   director               85768 non-null  object \n",
      " 10  writer                 84283 non-null  object \n",
      " 11  production_company     81400 non-null  object \n",
      " 12  actors                 85786 non-null  object \n",
      " 13  description            83740 non-null  object \n",
      " 14  avg_vote               85855 non-null  float64\n",
      " 15  votes                  85855 non-null  int64  \n",
      " 16  budget                 23710 non-null  object \n",
      " 17  usa_gross_income       15326 non-null  object \n",
      " 18  worlwide_gross_income  31016 non-null  object \n",
      " 19  metascore              13305 non-null  float64\n",
      " 20  reviews_from_users     78258 non-null  float64\n",
      " 21  reviews_from_critics   74058 non-null  float64\n",
      "dtypes: float64(4), int64(2), object(16)\n",
      "memory usage: 14.4+ MB\n"
     ]
    }
   ],
   "source": [
    "tmdb.info()"
   ]
  },
  {
   "cell_type": "code",
   "execution_count": 4,
   "metadata": {},
   "outputs": [
    {
     "data": {
      "text/plain": [
       "imdb_title_id                0\n",
       "title                        0\n",
       "original_title               0\n",
       "year                         0\n",
       "date_published               0\n",
       "genre                        0\n",
       "duration                     0\n",
       "country                     64\n",
       "language                   833\n",
       "director                    87\n",
       "writer                    1572\n",
       "production_company        4455\n",
       "actors                      69\n",
       "description               2115\n",
       "avg_vote                     0\n",
       "votes                        0\n",
       "budget                   62145\n",
       "usa_gross_income         70529\n",
       "worlwide_gross_income    54839\n",
       "metascore                72550\n",
       "reviews_from_users        7597\n",
       "reviews_from_critics     11797\n",
       "dtype: int64"
      ]
     },
     "execution_count": 4,
     "metadata": {},
     "output_type": "execute_result"
    }
   ],
   "source": [
    "# Counting the number of missing values.\n",
    "tmdb.isna().sum()"
   ]
  },
  {
   "cell_type": "markdown",
   "metadata": {},
   "source": [
    "### <p  style = \"font-family:newtimeroman; font-size:100%; color:#123456\"> From the above table, we can see that there are a lot of columns with a lot of missing values. So we will drop those columns </p>\n",
    "\n",
    "### <p style = \"font-family:newtimeroman; font-size:100%; color:#123456\"> The columns to be dropped are:\n",
    "- imdb_title_id\n",
    "- date_published\n",
    "- writer\n",
    "- production_company \n",
    "- budget\n",
    "- usa_gross_income\n",
    "- worlwide_gross_income\n",
    "- metascore\n",
    "- reviews_from_users\n",
    "- reviews_from_critics </p>"
   ]
  },
  {
   "cell_type": "code",
   "execution_count": 5,
   "metadata": {},
   "outputs": [],
   "source": [
    "# Dropping the insignificant & high missing value columns\n",
    "\n",
    "tmdb = tmdb.drop(['imdb_title_id',\n",
    "                  'date_published',\n",
    "                  'title',\n",
    "                  'writer',\n",
    "                  'production_company',\n",
    "                  'budget',\n",
    "                  'usa_gross_income',\n",
    "                  'worlwide_gross_income',\n",
    "                  'metascore',\n",
    "                  'reviews_from_users',\n",
    "                  'reviews_from_critics'], axis=1)"
   ]
  },
  {
   "cell_type": "code",
   "execution_count": 6,
   "metadata": {},
   "outputs": [
    {
     "data": {
      "text/plain": [
       "original_title       0\n",
       "year                 0\n",
       "genre                0\n",
       "duration             0\n",
       "country             64\n",
       "language           833\n",
       "director            87\n",
       "actors              69\n",
       "description       2115\n",
       "avg_vote             0\n",
       "votes                0\n",
       "dtype: int64"
      ]
     },
     "execution_count": 6,
     "metadata": {},
     "output_type": "execute_result"
    }
   ],
   "source": [
    "tmdb.isnull().sum()"
   ]
  },
  {
   "cell_type": "code",
   "execution_count": 7,
   "metadata": {},
   "outputs": [
    {
     "data": {
      "text/plain": [
       "original_title    0\n",
       "year              0\n",
       "genre             0\n",
       "duration          0\n",
       "country           0\n",
       "language          0\n",
       "director          0\n",
       "actors            0\n",
       "description       0\n",
       "avg_vote          0\n",
       "votes             0\n",
       "dtype: int64"
      ]
     },
     "execution_count": 7,
     "metadata": {},
     "output_type": "execute_result"
    }
   ],
   "source": [
    "# Dropping the rows with missing values and verify whether all null value rows are dropped\n",
    "\n",
    "tmdb = tmdb.dropna(axis=0, how='any')\n",
    "tmdb.isnull().sum()"
   ]
  },
  {
   "cell_type": "code",
   "execution_count": 8,
   "metadata": {},
   "outputs": [],
   "source": [
    "#Writing it to the file so it can be used for further application functions\n",
    "\n",
    "tmdb.to_csv('TMDb.csv',index=False)"
   ]
  },
  {
   "cell_type": "markdown",
   "metadata": {},
   "source": [
    "<a id=\"4\"></a>\n",
    "## <p style=\"background-color:#800000; font-family:newtimeroman; color:#D2B48C; font-size:150%; text-align:center; border-radius:10px 10px;\"> 4. Functions</p>\n"
   ]
  },
  {
   "cell_type": "markdown",
   "metadata": {},
   "source": [
    "\n",
    "<a id=\"4.1\"></a>\n",
    "### <p style=\"background-color:#123456; font-family:newtimeroman; color:#D2B48C; font-size:150%; text-align:center; border-radius:10px 10px;\"> 4.1 Registration Function</p>\n",
    "\n",
    "<a href=\"#toc\" class=\"btn btn-primary btn-sm\" role=\"button\" aria-pressed=\"true\" \n",
    "style=\"color:blue; background-color:#CFECEC\" data-toggle=\"popover\">Table of Contents</a>\n"
   ]
  },
  {
   "cell_type": "code",
   "execution_count": 9,
   "metadata": {},
   "outputs": [],
   "source": [
    "def registration():\n",
    "\n",
    "    print(\"\"\"Welcome to the TMDB MovFlix Registration portal. Please read below before entering generating an account.\n",
    "\n",
    "        1) Username has to be 1 word without any spaces.\n",
    "\n",
    "        2) password should be a 4 digit numeric PIN.\"\"\")\n",
    "\n",
    "    try:\n",
    "        db=open(\"user_details.txt\",\"r\")\n",
    "        Username=input(\"Create Username :\").lower()\n",
    "        Password=input(\"Create your password: \")\n",
    "        Confirm_Password=input(\"Confirm your password: \")\n",
    "        match_flag = False\n",
    "        if Password.isnumeric()==True & Confirm_Password.isnumeric()==True:\n",
    "            d=[]\n",
    "            f=[]\n",
    "            for i in db:\n",
    "                a,b=i.split(\" \")\n",
    "                b=b.strip()\n",
    "                d.append(a)\n",
    "                f.append(b)\n",
    "                data=dict(zip(d,f))\n",
    "\n",
    "            for (key, value) in set(data.items()):\n",
    "                if Username == key:\n",
    "                    match_flag = True\n",
    "                else:\n",
    "                    pass\n",
    "                \n",
    "            if match_flag == False:\n",
    "                db=open(\"user_details.txt\",\"a\")\n",
    "                db.write(Username+\" \"+Password+\"\\n\")\n",
    "                db.close()\n",
    "                print(\"Congratulations! Successfully Added, Go to login page and try to login\")\n",
    "                login()\n",
    "            else:\n",
    "                print(\"Sorry! The username \",Username,\" is already registered.\")\n",
    "                print(\"Please recover the password using forget password functionality if needed.\")\n",
    "        else:\n",
    "            print(\"\"\"Entered PIN is not numeric. Please restart the registration process \n",
    "                     and enter PIN only in numeric format.\"\"\")\n",
    "            registration()\n",
    "        db.close()\n",
    "    except Exception as Error:\n",
    "        print(\"Description of the error: \",Error)"
   ]
  },
  {
   "cell_type": "markdown",
   "metadata": {},
   "source": [
    "<a id=\"4.2\"></a>\n",
    "### <p style=\"background-color:#123456; font-family:newtimeroman; color:#D2B48C; font-size:150%; text-align:center; border-radius:10px 10px;\"> 4.2 Login Function</p>\n",
    "\n",
    "<a href=\"#toc\" class=\"btn btn-primary btn-sm\" role=\"button\" aria-pressed=\"true\" \n",
    "style=\"color:blue; background-color:#CFECEC\" data-toggle=\"popover\">Table of Contents</a>\n"
   ]
  },
  {
   "cell_type": "code",
   "execution_count": 10,
   "metadata": {},
   "outputs": [],
   "source": [
    "def login():\n",
    "    error_flag = False\n",
    "    try:\n",
    "        db=open(\"user_details.txt\",\"r\")\n",
    "        Username=input(\"Enter your Username :\")\n",
    "        Password=input(\"Enter your password: \")\n",
    "    \n",
    "        if not len(Username or Password)<1:\n",
    "            d=[]\n",
    "            f=[]\n",
    "            for i in db:\n",
    "                a,b=i.split(\" \")\n",
    "                b=b.strip()\n",
    "                d.append(a)\n",
    "                f.append(b)\n",
    "                data=dict(zip(d,f))\n",
    "            try:\n",
    "                try:\n",
    "                    if Password==data[Username]:\n",
    "                        print(\"Log in success\")\n",
    "                        print(\"Hi \",Username,\", Welcome to TMDB.\") \n",
    "                        print(\"Hope you have a wonderful journey exploring all the movies you like.\")\n",
    "                    else:\n",
    "                        print(\"Your Username doesn't exists. Please go for registration first.\")\n",
    "                except:\n",
    "                    print(\"Username or Password is incorrect. Please try login again.\")\n",
    "                    error_flag = True\n",
    "                    db.close()\n",
    "                    login()\n",
    "            except:\n",
    "                print(\"Username or Password is incorrect. Please try login again.\")\n",
    "                error_flag = True\n",
    "                db.close()\n",
    "                login()\n",
    "        else:\n",
    "            print(\"Please Enter Value\")\n",
    "        db.close()\n",
    "    except Exception as Error:\n",
    "        print(\"Description of the error: \",Error)\n",
    "        error_flag = True\n",
    "    finally:\n",
    "        if error_flag == False:\n",
    "            menu()"
   ]
  },
  {
   "cell_type": "markdown",
   "metadata": {},
   "source": [
    "<a id=\"4.3\"></a>\n",
    "### <p style=\"background-color:#123456; font-family:newtimeroman; color:#D2B48C; font-size:150%; text-align:center; border-radius:10px 10px;\"> 4.3 Forget Password Function</p>\n",
    "\n",
    "<a href=\"#toc\" class=\"btn btn-primary btn-sm\" role=\"button\" aria-pressed=\"true\" \n",
    "style=\"color:blue; background-color:#CFECEC\" data-toggle=\"popover\">Table of Contents</a>\n"
   ]
  },
  {
   "cell_type": "code",
   "execution_count": 11,
   "metadata": {},
   "outputs": [],
   "source": [
    "def forget():\n",
    "    try:\n",
    "        db=open(\"user_details.txt\",\"r\")\n",
    "        User_name=input(\"Enter your Username : \")\n",
    "        to_mail = input(\"Please enter your email id : \")\n",
    "        if not len(User_name)<1:\n",
    "            d=[]\n",
    "            f=[]\n",
    "            for i in db:\n",
    "                a,b=i.split(\" \")\n",
    "                b=b.strip()\n",
    "                d.append(a)\n",
    "                f.append(b)\n",
    "                data=dict(zip(d,f))\n",
    "        else:\n",
    "            print(\"Your Username does not exists. Please go to registration first.\")\n",
    "\n",
    "        retr_pin = data.get(User_name)\n",
    "        db.close()\n",
    "        from_mail = \"tie10nmims@gmail.com\"  \n",
    "        from_password = 'srishti@123.'\n",
    "        \n",
    "        # creates SMTP session\n",
    "        s = smtplib.SMTP_SSL('smtp.gmail.com', 465)\n",
    "  \n",
    "        # Authentication\n",
    "        s.login(from_mail, from_password)\n",
    "  \n",
    "        # message to be sent\n",
    "        msg = MIMEMultipart()\n",
    "        msg['Subject'] = 'Your MovFlix PIN Code' # The email's subject line\n",
    "        msg['From'] = from_mail\n",
    "        COMMASPACE = ', '\n",
    "        msg['To'] = COMMASPACE.join([from_mail, to_mail])\n",
    "  \n",
    "        # this code is the HTML part of the message. This is used to show the message. \n",
    "        body = '''\n",
    "            <html>\n",
    "                <body>\n",
    "                    <h1 style=\"text-align: center;\">Your MovFlix PIN Code</h1>\n",
    "                    <p>Dear {},</p>\n",
    "                    <br>\n",
    "                    <p> The PIN Code for your account is {}. </p>\n",
    "                    <p></p>\n",
    "                    <p> Regards, </p>\n",
    "                    <p> Team MovFlix </p>\n",
    "                </body>\n",
    "            </html>'''.format(User_name,retr_pin)\n",
    "\n",
    "\n",
    "        # Attach HTML body\n",
    "        msg.attach(MIMEText(body,'html', 'utf-8'))\n",
    "    \n",
    "        # sending the mail\n",
    "        s.ehlo()\n",
    "        s.sendmail(from_mail, [from_mail, to_mail], msg.as_string())\n",
    "  \n",
    "        # terminating the session\n",
    "        s.quit()\n",
    "        print(\"PIN code for user id\", User_name, \" has been sent to email id: \",to_mail)\n",
    "    except Exception as Error:\n",
    "            print(\"Description of the error: \",Error)"
   ]
  },
  {
   "cell_type": "markdown",
   "metadata": {},
   "source": [
    "\n",
    "<a id=\"4.4\"></a>\n",
    "### <p style=\"background-color:#123456; font-family:newtimeroman; color:#D2B48C; font-size:150%; text-align:center; border-radius:10px 10px;\"> 4.4 Data Retrival in Empty Lists</p>\n",
    "\n",
    "<a href=\"#toc\" class=\"btn btn-primary btn-sm\" role=\"button\" aria-pressed=\"true\" \n",
    "style=\"color:blue; background-color:#CFECEC\" data-toggle=\"popover\">Table of Contents</a>\n"
   ]
  },
  {
   "cell_type": "code",
   "execution_count": 12,
   "metadata": {},
   "outputs": [],
   "source": [
    "# Retrieve all the movies data from CSV\n",
    "\n",
    "original_title = []\n",
    "year  = []\n",
    "genre = []\n",
    "duration = []\n",
    "country = []\n",
    "language = []\n",
    "director = []\n",
    "actors = []\n",
    "description = []\n",
    "avg_vote = []\n",
    "votes = []\n",
    "v = 0\n",
    "with open('TMDb.csv',encoding = \"UTF-8\") as csvfile:\n",
    "    readCSV = csv.reader(csvfile, delimiter=',')\n",
    "    for row in readCSV:\n",
    "        original_title.append(row[0].title())\n",
    "        year.append(row[1])\n",
    "        genre.append(row[2])\n",
    "        duration.append(row[3])  \n",
    "        country.append(row[4])\n",
    "        language.append(row[5])\n",
    "        director.append(row[6])\n",
    "        actors.append(row[7])\n",
    "        description.append(row[8])\n",
    "        avg_vote.append(row[9])\n",
    "        votes.append(row[10])"
   ]
  },
  {
   "cell_type": "markdown",
   "metadata": {},
   "source": [
    "<a id=\"4.5\"></a>\n",
    "### <p style=\"background-color:#123456; font-family:newtimeroman; color:#D2B48C; font-size:150%; text-align:center; border-radius:10px 10px;\">4.5 Output Display Format</p>\n",
    "\n",
    "<a href=\"#toc\" class=\"btn btn-primary btn-sm\" role=\"button\" aria-pressed=\"true\" \n",
    "style=\"color:blue; background-color:#CFECEC\" data-toggle=\"popover\">Table of Contents</a>\n"
   ]
  },
  {
   "cell_type": "code",
   "execution_count": 13,
   "metadata": {},
   "outputs": [],
   "source": [
    "def display(count):\n",
    "    src_cnt = 0\n",
    "    for a in count:\n",
    "        src_cnt+=1\n",
    "    if src_cnt > 0:\n",
    "        print(\"\\nThe search result contains \",src_cnt,\" results\")\n",
    "    MovieNo = 1\n",
    "    for index in count: \n",
    "        print(\"\\n\\n---------------{} movie --------------\".format(MovieNo))\n",
    "        print(\"\\nTitle of movie:           : >> \",original_title[int(index)])\n",
    "        print(\"\\nYear of the movie         : >> \",year[int(index)])\n",
    "        print(\"\\nGenre of the movie        : >> \",genre[int(index)])\n",
    "        print(\"\\nDuration of the movie     : >> \",duration[int(index)])\n",
    "        print(\"\\nLanguage of the movie     : >> \",language[int(index)])\n",
    "        print(\"\\nDirector of the movie     : >> \",director[int(index)])\n",
    "        print(\"\\nActors in the movie       : >> \",actors[int(index)])\n",
    "        print(\"\\nDescription of the movie  : >> \",description[int(index)])\n",
    "        print(\"\\nAverge Rating             : >> \",avg_vote[int(index)])\n",
    "        print(\"\\nNumber of Votes received  : >> \",votes[int(index)])\n",
    "        print(\"=\"*69)\n",
    "        MovieNo+=1"
   ]
  },
  {
   "cell_type": "markdown",
   "metadata": {},
   "source": [
    "<a id=\"4.6\"></a>\n",
    "### <p style=\"background-color:#123456; font-family:newtimeroman; color:#D2B48C; font-size:150%; text-align:center; border-radius:10px 10px;\"> 4.6 Movie Names by Minimum & Maximum Votes</p>\n",
    "\n",
    "<a href=\"#toc\" class=\"btn btn-primary btn-sm\" role=\"button\" aria-pressed=\"true\" \n",
    "style=\"color:blue; background-color:#CFECEC\" data-toggle=\"popover\">Table of Contents</a>\n"
   ]
  },
  {
   "cell_type": "code",
   "execution_count": 14,
   "metadata": {},
   "outputs": [],
   "source": [
    "def vote_average_basis():\n",
    "    print(\"Maximum vote == 10 and Minimum vote == 0\")\n",
    "    mini = input(\"Minimum vote of movie : >> \")\n",
    "    maxi = input(\"Maximum vote of movie : >> \")\n",
    "    count = []\n",
    "    line = 0\n",
    "    try:\n",
    "        for c in range(len(avg_vote)):\n",
    "            if line == 0:\n",
    "                line += 1\n",
    "                continue\n",
    "            else:\n",
    "                if duration[c] == \"\":\n",
    "                    pass\n",
    "                elif float(maxi) >= float(avg_vote[c]) and float(mini) <= float(avg_vote[c]):\n",
    "                    count.append(c)\n",
    "                else:\n",
    "                    pass\n",
    "        display(count)\n",
    "        \n",
    "    except Exception as Error:\n",
    "            print(\"Description of the error: \",Error)\n",
    "            \n",
    "    finally:\n",
    "        menu()"
   ]
  },
  {
   "cell_type": "markdown",
   "metadata": {},
   "source": [
    "<a id=\"4.7\"></a>\n",
    "### <p style=\"background-color:#123456; font-family:newtimeroman; color:#D2B48C; font-size:150%; text-align:center; border-radius:10px 10px;\"> 4.7 Movie Names by Minimum & Maximum Duration of Movie</p>\n",
    "\n",
    "<a href=\"#toc\" class=\"btn btn-primary btn-sm\" role=\"button\" aria-pressed=\"true\" \n",
    "style=\"color:blue; background-color:#CFECEC\" data-toggle=\"popover\">Table of Contents</a>\n"
   ]
  },
  {
   "cell_type": "code",
   "execution_count": 15,
   "metadata": {},
   "outputs": [],
   "source": [
    "def runtime_basis():\n",
    "    mini = input(\"Minimum runtime of movie : >> \")\n",
    "    maxi = input(\"Maximum runtime of movie : >> \")\n",
    "    count = []\n",
    "    line = 0\n",
    "    try:\n",
    "        for c in range(len(duration)):\n",
    "            if line == 0:\n",
    "                line += 1\n",
    "                continue\n",
    "            else:\n",
    "                if duration[c] == \"\":\n",
    "                    pass\n",
    "                elif float(maxi) >= float(duration[c]) and float(mini) <= float(duration[c]):\n",
    "                    count.append(c)\n",
    "                else:\n",
    "                    pass\n",
    "        display(count)\n",
    "        \n",
    "    except Exception as Error:\n",
    "            print(\"Description of the error: \",Error)\n",
    "            \n",
    "    finally:\n",
    "        menu()"
   ]
  },
  {
   "cell_type": "markdown",
   "metadata": {},
   "source": [
    "<a id=\"4.8\"></a>\n",
    "### <p style=\"background-color:#123456; font-family:newtimeroman; color:#D2B48C; font-size:150%; text-align:center; border-radius:10px 10px;\"> 4.8 Movie Details by Title</p>\n",
    "\n",
    "<a href=\"#toc\" class=\"btn btn-primary btn-sm\" role=\"button\" aria-pressed=\"true\" \n",
    "style=\"color:blue; background-color:#CFECEC\" data-toggle=\"popover\">Table of Contents</a>\n"
   ]
  },
  {
   "cell_type": "code",
   "execution_count": 16,
   "metadata": {},
   "outputs": [],
   "source": [
    "def title_basis():\n",
    "    name = input(\"Title of movie : >> \").title()\n",
    "    count = []\n",
    "    try:\n",
    "        for c in range(len(original_title)):\n",
    "            if name in str(original_title[c]):\n",
    "                count.append(c)\n",
    "            else:\n",
    "                pass\n",
    "        display(count)\n",
    "        \n",
    "    except Exception as Error:\n",
    "            print(\"Description of the error: \",Error)\n",
    "            \n",
    "    finally:\n",
    "        menu()"
   ]
  },
  {
   "cell_type": "markdown",
   "metadata": {},
   "source": [
    "<a id=\"4.9\"></a>\n",
    "### <p style=\"background-color:#123456; font-family:newtimeroman; color:#D2B48C; font-size:150%; text-align:center; border-radius:10px 10px;\"> 4.9 Movie Names by Director Name</p>\n",
    "\n",
    "<a href=\"#toc\" class=\"btn btn-primary btn-sm\" role=\"button\" aria-pressed=\"true\" \n",
    "style=\"color:blue; background-color:#CFECEC\" data-toggle=\"popover\">Table of Contents</a>\n"
   ]
  },
  {
   "cell_type": "code",
   "execution_count": 17,
   "metadata": {},
   "outputs": [],
   "source": [
    "def director_basis():\n",
    "    drctr = input(\"Director of movie : >> \").title()\n",
    "    count = []\n",
    "    try:\n",
    "        for c in range(len(director)):\n",
    "            if drctr in str(director[c]):\n",
    "                count.append(c)\n",
    "            else:\n",
    "                pass\n",
    "        display(count)\n",
    "        \n",
    "    except Exception as Error:\n",
    "            print(\"Description of the error: \",Error)\n",
    "            \n",
    "    finally:\n",
    "        menu()"
   ]
  },
  {
   "cell_type": "markdown",
   "metadata": {},
   "source": [
    "<a id=\"4.10\"></a>\n",
    "### <p style=\"background-color:#123456; font-family:newtimeroman; color:#D2B48C; font-size:150%; text-align:center; border-radius:10px 10px;\"> 4.10 Random Movie Suggestion</p>\n",
    "\n",
    "<a href=\"#toc\" class=\"btn btn-primary btn-sm\" role=\"button\" aria-pressed=\"true\" \n",
    "style=\"color:blue; background-color:#CFECEC\" data-toggle=\"popover\">Table of Contents</a>\n"
   ]
  },
  {
   "cell_type": "code",
   "execution_count": 18,
   "metadata": {},
   "outputs": [],
   "source": [
    "def random_names():\n",
    "    random_quantity = int(input(\"No. of movies You wants to see randomly !\"))\n",
    "    \n",
    "    count = []\n",
    "    try:\n",
    "        for movies in range(random_quantity):\n",
    "            random_index = randrange(len(original_title))\n",
    "            count.append(random_index)\n",
    "        \n",
    "        display(count)\n",
    "        \n",
    "    except Exception as Error:\n",
    "            print(\"Description of the error: \",Error)\n",
    "            \n",
    "    finally:\n",
    "        menu()"
   ]
  },
  {
   "cell_type": "markdown",
   "metadata": {},
   "source": [
    "<a id=\"4.11\"></a>\n",
    "### <p style=\"background-color:#123456; font-family:newtimeroman; color:#D2B48C; font-size:150%; text-align:center; border-radius:10px 10px;\"> 4.11 Movie Names by Genre, Language and Duration of Movie</p>\n",
    "\n",
    "<a href=\"#toc\" class=\"btn btn-primary btn-sm\" role=\"button\" aria-pressed=\"true\" \n",
    "style=\"color:blue; background-color:#CFECEC\" data-toggle=\"popover\">Table of Contents</a>\n"
   ]
  },
  {
   "cell_type": "code",
   "execution_count": 19,
   "metadata": {},
   "outputs": [],
   "source": [
    "def gen_lang_dur():\n",
    "    gen     = input(\"Genre of movie you would like to watch : >> \").title()\n",
    "    lang    = input(\"Language of movie you would like to watch : >> \").title()\n",
    "    minidur = input(\"Minimum runtime of movie (in minutes): >> \")\n",
    "    maxidur = input(\"Maximum runtime of movie (in minutes): >> \")\n",
    "    count = []\n",
    "    match_flag = False\n",
    "    try:\n",
    "        for c in range(len(genre)):\n",
    "            if gen in str(genre[c]) and lang == str(language[c]) and float(maxidur) >= float(duration[c]) and float(minidur) <= float(duration[c]):\n",
    "                        count.append(c)\n",
    "                        match_flag=True\n",
    "            else:\n",
    "                if match_flag == False and c==len(genre)-1:\n",
    "                    print(\"There are no movies matching this specific criteria.\")\n",
    "                else:\n",
    "                    pass\n",
    "        display(count)\n",
    "        \n",
    "    except Exception as Error:\n",
    "            print(\"Description of the error: \",Error)\n",
    "            \n",
    "    finally:\n",
    "        menu()"
   ]
  },
  {
   "cell_type": "markdown",
   "metadata": {},
   "source": [
    "<a id=\"4.12\"></a>\n",
    "### <p style=\"background-color:#123456; font-family:newtimeroman; color:#D2B48C; font-size:150%; text-align:center; border-radius:10px 10px;\"> 4.12 Movie Names by Genre, Language and Votes</p>\n",
    "\n",
    "<a href=\"#toc\" class=\"btn btn-primary btn-sm\" role=\"button\" aria-pressed=\"true\" \n",
    "style=\"color:blue; background-color:#CFECEC\" data-toggle=\"popover\">Table of Contents</a>\n"
   ]
  },
  {
   "cell_type": "code",
   "execution_count": 20,
   "metadata": {},
   "outputs": [],
   "source": [
    "def gen_lang_vote():\n",
    "    gen      = input(\"Genre of movie you would like to watch : >> \").title()\n",
    "    lang     = input(\"Language of movie you would like to watch : >> \").title()\n",
    "    minivote = input(\"Minimum Average Votes of movie : >> \")\n",
    "    maxivote = input(\"Maximum Average Votes of movie : >> \")\n",
    "    count = []\n",
    "    match_flag = False\n",
    "    try:\n",
    "        for c in range(len(genre)):\n",
    "            if gen in str(genre[c]) and lang == str(language[c]) and float(maxivote) >= float(avg_vote[c]) and float(minivote) <= float(avg_vote[c]):\n",
    "                count.append(c)\n",
    "                match_flag=True\n",
    "            else:\n",
    "                if match_flag == False and c==len(genre)-1:\n",
    "                    print(\"There are no movies matching this specific criteria.\")\n",
    "                else:\n",
    "                    pass\n",
    "        display(count)\n",
    "        \n",
    "    except Exception as Error:\n",
    "            print(\"Description of the error: \",Error)\n",
    "            \n",
    "    finally:\n",
    "        menu()"
   ]
  },
  {
   "cell_type": "markdown",
   "metadata": {},
   "source": [
    "<a id=\"4.13\"></a>\n",
    "### <p style=\"background-color:#123456; font-family:newtimeroman; color:#D2B48C; font-size:150%; text-align:center; border-radius:10px 10px;\"> 4.13 Movie Names by Duration, Language and Votes</p>\n",
    "\n",
    "<a href=\"#toc\" class=\"btn btn-primary btn-sm\" role=\"button\" aria-pressed=\"true\" \n",
    "style=\"color:blue; background-color:#CFECEC\" data-toggle=\"popover\">Table of Contents</a>\n"
   ]
  },
  {
   "cell_type": "code",
   "execution_count": 21,
   "metadata": {},
   "outputs": [],
   "source": [
    "def dur_lang_vote():\n",
    "    minidur = input(\"Minimum runtime of movie : >> \") \n",
    "    maxidur = input(\"Maximum runtime of movie : >> \")\n",
    "    lang     = input(\"Language of movie you would like to watch : >> \").title()\n",
    "    minivote = input(\"Minimum Average Votes of movie : >> \")\n",
    "    maxivote = input(\"Maximum Average Votes of movie : >> \")\n",
    "    count = []\n",
    "    match_flag = False\n",
    "    try:\n",
    "        for c in range(len(genre)):\n",
    "            if lang == str(language[c]) and float(maxivote) >= float(avg_vote[c]) and float(minivote) <= float(avg_vote[c]) and float(maxidur) >= float(duration[c]) and float(minidur) <= float(duration[c]):\n",
    "                count.append(c)\n",
    "                match_flag=True\n",
    "            else:\n",
    "                if match_flag == False and c==len(language)-1:\n",
    "                    print(\"There are no movies matching this specific criteria.\")\n",
    "                else:\n",
    "                    pass\n",
    "        display(count)\n",
    "        \n",
    "    except Exception as Error:\n",
    "            print(\"Description of the error: \",Error)\n",
    "            \n",
    "    finally:\n",
    "        menu()"
   ]
  },
  {
   "cell_type": "markdown",
   "metadata": {},
   "source": [
    "<a id=\"5\"></a>\n",
    "### <p style=\"background-color:#800000; font-family:newtimeroman; color:#D2B48C; font-size:150%; text-align:center; border-radius:10px 10px;\"> 5 Menu to be displayed</p>\n",
    "\n",
    "<a href=\"#toc\" class=\"btn btn-primary btn-sm\" role=\"button\" aria-pressed=\"true\" \n",
    "style=\"color:blue; background-color:#CFECEC\" data-toggle=\"popover\">Table of Contents</a>\n"
   ]
  },
  {
   "cell_type": "code",
   "execution_count": 22,
   "metadata": {},
   "outputs": [],
   "source": [
    "def menu():\n",
    "    print(\"=\"*80)\n",
    "    print(\"~\"*14,\"  Welcome to MovFlix. How can we help you?  \",\"~\"*14)\n",
    "    print(\"=\"*80)\n",
    "    print()\n",
    "    print()\n",
    "    print(\"0.     Quit\")\n",
    "    print(\"1.     Movie search in the range of votes \")\n",
    "    print(\"2.     Movie search in maximum and minimum duration\")\n",
    "    print(\"3.     Search movie by their titles\")\n",
    "    print(\"4.     View the names of random movies\")\n",
    "    print(\"5.     Movie search based on director\")\n",
    "    print(\"6.     Movie search based on genre, language and duration\")\n",
    "    print(\"7.     Movie search based on genre, language and average rating\")\n",
    "    print(\"8.     Movie search in maximum and minimum duration, language and average rating\")    \n",
    "    print(\"=\"*80 )\n",
    "    print()\n",
    "    print()\n",
    "    Userchoice = input(\"Please enter the number of the services that you want or press 0 to quit : \")\n",
    "    if Userchoice.isnumeric() == True and len(Userchoice) == 1:\n",
    "        try:\n",
    "            if Userchoice == '1':\n",
    "                vote_average_basis()\n",
    "            else:\n",
    "                if Userchoice == '2':\n",
    "                    runtime_basis()\n",
    "                else:\n",
    "                    if Userchoice == '3':\n",
    "                        title_basis()\n",
    "                    else:\n",
    "                        if Userchoice == '4':\n",
    "                            random_names()\n",
    "                        else:\n",
    "                            if Userchoice == '5':\n",
    "                                director_basis()\n",
    "                            else:\n",
    "                                if Userchoice == '6':\n",
    "                                    gen_lang_dur()\n",
    "                                else:\n",
    "                                    if Userchoice == '7':\n",
    "                                        gen_lang_vote()\n",
    "                                    else:\n",
    "                                        if Userchoice == '8':\n",
    "                                            dur_lang_vote()\n",
    "                                        else:\n",
    "                                            if Userchoice == '0':\n",
    "                                                print(\"Thank you for visiting MovFlix. Hope to see you soon again.\")\n",
    "                                            else:\n",
    "                                                print(\"Please enter a numeric input from given above options.\")\n",
    "        except Exception as Error:\n",
    "                print(\"Description of the error: \",Error)\n",
    "    else:\n",
    "        print(\"Please enter a numeric input from given above options.\")"
   ]
  },
  {
   "cell_type": "markdown",
   "metadata": {},
   "source": [
    "<a id=\"6\"></a>\n",
    "### <p style=\"background-color:#800000; font-family:newtimeroman; color:#D2B48C; font-size:150%; text-align:center; border-radius:10px 10px;\"> 6 Home Page of Movflix</p>\n",
    "\n",
    "<a href=\"#toc\" class=\"btn btn-primary btn-sm\" role=\"button\" aria-pressed=\"true\" \n",
    "style=\"color:blue; background-color:#CFECEC\" data-toggle=\"popover\">Table of Contents</a>\n"
   ]
  },
  {
   "cell_type": "code",
   "execution_count": null,
   "metadata": {
    "scrolled": false
   },
   "outputs": [
    {
     "name": "stdout",
     "output_type": "stream",
     "text": [
      "Welcome to TMDb MovFlix.\n"
     ]
    }
   ],
   "source": [
    "print(\"Welcome to TMDb MovFlix.\")\n",
    "choice = input(\"\"\"For creating an account, please enter (R)\\n\n",
    "                  For login please enter (L)\\n\n",
    "                  If you forgot your password please enter (F) \n",
    "                  >> \"\"\").upper()\n",
    "try:\n",
    "    if choice == \"L\":\n",
    "        login()    \n",
    "    elif choice == \"F\":\n",
    "        forget()\n",
    "    if choice == \"R\":\n",
    "        registration()\n",
    "except Exception as Error:\n",
    "        print(\"Description of the error: \",Error)"
   ]
  },
  {
   "cell_type": "markdown",
   "metadata": {},
   "source": [
    "<a id=\"7\"></a>\n",
    "### <p style=\"background-color:#800000; font-family:newtimeroman; color:#D2B48C; font-size:150%; text-align:center; border-radius:10px 10px;\">7. Application</p>\n",
    "\n",
    "<a href=\"#toc\" class=\"btn btn-primary btn-sm\" role=\"button\" aria-pressed=\"true\" \n",
    "style=\"color:blue; background-color:#CFECEC\" data-toggle=\"popover\">Table of Contents</a>\n"
   ]
  },
  {
   "cell_type": "markdown",
   "metadata": {},
   "source": [
    "### <p  style = \"font-family:newtimeroman; font-size:100%; color:#123456\"> TMDB (Tie-10 Movie Database) is all about connecting people to the movies they love. To help customers find those movies according to their preference and the ease of convenience, they developed world-class movie search engine: MovFlix. Its job is to show all the possible movies someone can enjoy, based on certain factors like ratings, name, etc.</p>"
   ]
  },
  {
   "cell_type": "markdown",
   "metadata": {},
   "source": [
    "# <p style=\"background-color:#800000; font-family:newtimeroman; color:#D2B48C; font-size:250%; text-align:center; border-radius:10px 10px;\">THANK YOU!</p>\n"
   ]
  },
  {
   "attachments": {
    "thank%20you-2.jpg": {
     "image/jpeg": "[encoded data removed]"
    }
   },
   "cell_type": "markdown",
   "metadata": {},
   "source": [
    "![thank%20you-2.jpg](attachment:thank%20you-2.jpg)"
   ]
  }
 ],
 "metadata": {
  "kernelspec": {
   "display_name": "Python 3 (ipykernel)",
   "language": "python",
   "name": "python3"
  },
  "language_info": {
   "codemirror_mode": {
    "name": "ipython",
    "version": 3
   },
   "file_extension": ".py",
   "mimetype": "text/x-python",
   "name": "python",
   "nbconvert_exporter": "python",
   "pygments_lexer": "ipython3",
   "version": "3.9.13"
  }
 },
 "nbformat": 4,
 "nbformat_minor": 4
}
